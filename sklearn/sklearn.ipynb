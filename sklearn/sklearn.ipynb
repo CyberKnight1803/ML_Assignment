{
  "nbformat": 4,
  "nbformat_minor": 0,
  "metadata": {
    "colab": {
      "name": "Assignment 2",
      "provenance": [],
      "collapsed_sections": []
    },
    "kernelspec": {
      "name": "python3",
      "display_name": "Python 3"
    },
    "language_info": {
      "name": "python"
    }
  },
  "cells": [
    {
      "cell_type": "code",
      "metadata": {
        "id": "iB5xds9cccYi"
      },
      "source": [
        "import numpy as np\n",
        "import pandas as pd\n",
        "from sklearn.model_selection import KFold\n",
        "from sklearn.model_selection import cross_val_score,cross_validate\n",
        "from sklearn.metrics import accuracy_score\n",
        "import matplotlib.pyplot as plt\n",
        "from sklearn.utils import shuffle\n",
        "\n",
        "from sklearn.discriminant_analysis import LinearDiscriminantAnalysis\n",
        "from sklearn.linear_model import Perceptron\n",
        "from sklearn.naive_bayes import GaussianNB\n",
        "from sklearn.linear_model import LogisticRegression\n",
        "from sklearn import svm\n",
        "from sklearn.neural_network import MLPClassifier"
      ],
      "execution_count": 1,
      "outputs": []
    },
    {
      "cell_type": "code",
      "metadata": {
        "id": "OUdh5NCGcl-Y"
      },
      "source": [
        "data=pd.read_csv('/content/drive/MyDrive/College/ML assignment (BITS F464)/dataset_comb.csv')"
      ],
      "execution_count": 2,
      "outputs": []
    },
    {
      "cell_type": "code",
      "metadata": {
        "colab": {
          "base_uri": "https://localhost:8080/",
          "height": 221
        },
        "id": "T6_z3efsc0B2",
        "outputId": "3819193e-eaef-4135-8b48-afe80a6cbd54"
      },
      "source": [
        "data.head()"
      ],
      "execution_count": 3,
      "outputs": [
        {
          "output_type": "execute_result",
          "data": {
            "text/html": [
              "<div>\n",
              "<style scoped>\n",
              "    .dataframe tbody tr th:only-of-type {\n",
              "        vertical-align: middle;\n",
              "    }\n",
              "\n",
              "    .dataframe tbody tr th {\n",
              "        vertical-align: top;\n",
              "    }\n",
              "\n",
              "    .dataframe thead th {\n",
              "        text-align: right;\n",
              "    }\n",
              "</style>\n",
              "<table border=\"1\" class=\"dataframe\">\n",
              "  <thead>\n",
              "    <tr style=\"text-align: right;\">\n",
              "      <th></th>\n",
              "      <th>id</th>\n",
              "      <th>Area</th>\n",
              "      <th>MajorAxisLength</th>\n",
              "      <th>MinorAxisLength</th>\n",
              "      <th>Eccentricity</th>\n",
              "      <th>ConvexArea</th>\n",
              "      <th>EquivDiameter</th>\n",
              "      <th>Extent</th>\n",
              "      <th>Perimeter</th>\n",
              "      <th>Roundness</th>\n",
              "      <th>AspectRation</th>\n",
              "      <th>Class</th>\n",
              "    </tr>\n",
              "  </thead>\n",
              "  <tbody>\n",
              "    <tr>\n",
              "      <th>0</th>\n",
              "      <td>1</td>\n",
              "      <td>4537</td>\n",
              "      <td>92.229317</td>\n",
              "      <td>64.012769</td>\n",
              "      <td>0.719916</td>\n",
              "      <td>4677</td>\n",
              "      <td>76.004525</td>\n",
              "      <td>0.657536</td>\n",
              "      <td>273.085</td>\n",
              "      <td>0.764510</td>\n",
              "      <td>1.440796</td>\n",
              "      <td>jasmine</td>\n",
              "    </tr>\n",
              "    <tr>\n",
              "      <th>1</th>\n",
              "      <td>2</td>\n",
              "      <td>2872</td>\n",
              "      <td>74.691881</td>\n",
              "      <td>51.400454</td>\n",
              "      <td>0.725553</td>\n",
              "      <td>3015</td>\n",
              "      <td>60.471018</td>\n",
              "      <td>0.713009</td>\n",
              "      <td>208.317</td>\n",
              "      <td>0.831658</td>\n",
              "      <td>1.453137</td>\n",
              "      <td>jasmine</td>\n",
              "    </tr>\n",
              "    <tr>\n",
              "      <th>2</th>\n",
              "      <td>3</td>\n",
              "      <td>3048</td>\n",
              "      <td>76.293164</td>\n",
              "      <td>52.043491</td>\n",
              "      <td>0.731211</td>\n",
              "      <td>3132</td>\n",
              "      <td>62.296341</td>\n",
              "      <td>0.759153</td>\n",
              "      <td>210.012</td>\n",
              "      <td>0.868434</td>\n",
              "      <td>1.465950</td>\n",
              "      <td>jasmine</td>\n",
              "    </tr>\n",
              "    <tr>\n",
              "      <th>3</th>\n",
              "      <td>4</td>\n",
              "      <td>3073</td>\n",
              "      <td>77.033628</td>\n",
              "      <td>51.928487</td>\n",
              "      <td>0.738639</td>\n",
              "      <td>3157</td>\n",
              "      <td>62.551300</td>\n",
              "      <td>0.783529</td>\n",
              "      <td>210.657</td>\n",
              "      <td>0.870203</td>\n",
              "      <td>1.483456</td>\n",
              "      <td>jasmine</td>\n",
              "    </tr>\n",
              "    <tr>\n",
              "      <th>4</th>\n",
              "      <td>5</td>\n",
              "      <td>3693</td>\n",
              "      <td>85.124785</td>\n",
              "      <td>56.374021</td>\n",
              "      <td>0.749282</td>\n",
              "      <td>3802</td>\n",
              "      <td>68.571668</td>\n",
              "      <td>0.769375</td>\n",
              "      <td>230.332</td>\n",
              "      <td>0.874743</td>\n",
              "      <td>1.510000</td>\n",
              "      <td>jasmine</td>\n",
              "    </tr>\n",
              "  </tbody>\n",
              "</table>\n",
              "</div>"
            ],
            "text/plain": [
              "   id  Area  MajorAxisLength  ...  Roundness  AspectRation    Class\n",
              "0   1  4537        92.229317  ...   0.764510      1.440796  jasmine\n",
              "1   2  2872        74.691881  ...   0.831658      1.453137  jasmine\n",
              "2   3  3048        76.293164  ...   0.868434      1.465950  jasmine\n",
              "3   4  3073        77.033628  ...   0.870203      1.483456  jasmine\n",
              "4   5  3693        85.124785  ...   0.874743      1.510000  jasmine\n",
              "\n",
              "[5 rows x 12 columns]"
            ]
          },
          "metadata": {
            "tags": []
          },
          "execution_count": 3
        }
      ]
    },
    {
      "cell_type": "code",
      "metadata": {
        "id": "DGbzmM5xniRo"
      },
      "source": [
        "kfold = 7\n",
        "n = data.shape[0] // kfold \n",
        "data = shuffle(data)\n",
        "k_fold_s = KFold(shuffle=True,n_splits=7)\n",
        "folds =  [data[i: i + n] for i in range(0, len(data), n)]"
      ],
      "execution_count": 4,
      "outputs": []
    },
    {
      "cell_type": "code",
      "metadata": {
        "id": "ezfxwUDSE42b"
      },
      "source": [
        "models= [\n",
        "          ('LogReg', LogisticRegression(max_iter=1000)), \n",
        "          ('LDA', LinearDiscriminantAnalysis()),\n",
        "          ('NB', GaussianNB()),\n",
        "          ('SVM', svm.SVC()), \n",
        "          ('ANN', MLPClassifier(hidden_layer_sizes=(10, 10, 10),alpha=0.0001, max_iter=10000,solver='adam')),\n",
        "          ('Perc',Perceptron(tol=1e-3, random_state=0,alpha=0.0001))\n",
        "]\n",
        "\n",
        "results = []\n",
        "names = []\n",
        "tr_accuracy = []\n",
        "\n",
        "for name, model in models:\n",
        "  add_val = []\n",
        "  names.append(name)\n",
        "  cv_results = cross_val_score(model, pd.DataFrame(data.iloc[:,1:-1]), data['Class'], cv=k_fold_s)\n",
        "\n",
        "  results.append(cv_results)\n",
        "\n",
        "  for i in range(kfold):\n",
        "    train_data = []\n",
        "    test_data = folds[i]\n",
        "\n",
        "    y_test=test_data['Class']\n",
        "    X_test=test_data.drop(['Class','id'],axis=1)\n",
        "\n",
        "    for j in range(kfold):\n",
        "      if i != j:\n",
        "        train_data.append(folds[j])\n",
        "    \n",
        "    temp = train_data[0]\n",
        "    for k in range(1, kfold-1):\n",
        "      temp = pd.concat([temp, train_data[k]], ignore_index=True)\n",
        "\n",
        "    y_train=temp['Class']\n",
        "    X_train=temp.drop(['Class','id'],axis=1)\n",
        "    \n",
        "    clf = model.fit(X_train, y_train)\n",
        "    y_pred = clf.predict(X_test)\n",
        "    val = accuracy_score(y_test, y_pred)\n",
        "    add_val.append(val)\n",
        "  tr_accuracy.append(add_val)\n",
        "  # print((tr_accuracy))\n",
        "  # print(\"****\")"
      ],
      "execution_count": 5,
      "outputs": []
    },
    {
      "cell_type": "code",
      "metadata": {
        "colab": {
          "base_uri": "https://localhost:8080/",
          "height": 444
        },
        "id": "eb1sDYhbNSnL",
        "outputId": "6f493499-2cf1-481c-8b85-4b0473a78f00"
      },
      "source": [
        "fig, ax = plt.subplots(figsize=(12, 7))\n",
        "\n",
        "ax.grid(color='grey', axis='y', linestyle='-', linewidth=0.25, alpha=0.5)\n",
        "ax.set_ylim(0.8 ,1)\n",
        "\n",
        "plt.boxplot([results[0],results[1],results[2],results[3],results[4],results[5]],widths = 0.6, patch_artist = True)\n",
        "\n",
        "ax.set_title('Performance by different models')\n",
        "ax.set_ylabel('accuracies')\n",
        "\n",
        "plt.xticks([1, 2, 3, 4, 5, 6], ['LR', 'LDA', 'NB', 'SVM', 'ANN', 'Perc'])\n",
        "\n",
        "plt.show()"
      ],
      "execution_count": 6,
      "outputs": [
        {
          "output_type": "display_data",
          "data": {
            "image/png": "[encoded data removed]",
            "text/plain": [
              "<Figure size 864x504 with 1 Axes>"
            ]
          },
          "metadata": {
            "tags": [],
            "needs_background": "light"
          }
        }
      ]
    }
  ]
}