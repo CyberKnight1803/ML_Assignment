{
 "cells": [
  {
   "cell_type": "markdown",
   "metadata": {},
   "source": [
    "<font size = \"25\">Fisher's Linear Discriminant</font>\n",
    "<font size = \"7\"></font>"
   ]
  },
  {
   "cell_type": "code",
   "execution_count": 1,
   "metadata": {},
   "outputs": [],
   "source": [
    "import numpy as np\n",
    "import pandas as pd\n",
    "import matplotlib.pyplot as plt"
   ]
  },
  {
   "cell_type": "code",
   "execution_count": 13,
   "metadata": {},
   "outputs": [
    {
     "data": {
      "text/html": [
       "<div>\n",
       "<style scoped>\n",
       "    .dataframe tbody tr th:only-of-type {\n",
       "        vertical-align: middle;\n",
       "    }\n",
       "\n",
       "    .dataframe tbody tr th {\n",
       "        vertical-align: top;\n",
       "    }\n",
       "\n",
       "    .dataframe thead th {\n",
       "        text-align: right;\n",
       "    }\n",
       "</style>\n",
       "<table border=\"1\" class=\"dataframe\">\n",
       "  <thead>\n",
       "    <tr style=\"text-align: right;\">\n",
       "      <th></th>\n",
       "      <th>feature1</th>\n",
       "      <th>feature2</th>\n",
       "      <th>feature3</th>\n",
       "      <th>target</th>\n",
       "    </tr>\n",
       "  </thead>\n",
       "  <tbody>\n",
       "    <tr>\n",
       "      <th>0</th>\n",
       "      <td>-6.672418</td>\n",
       "      <td>-1.206198</td>\n",
       "      <td>-1.081050</td>\n",
       "      <td>0</td>\n",
       "    </tr>\n",
       "    <tr>\n",
       "      <th>1</th>\n",
       "      <td>1.675598</td>\n",
       "      <td>0.614994</td>\n",
       "      <td>-0.971600</td>\n",
       "      <td>0</td>\n",
       "    </tr>\n",
       "    <tr>\n",
       "      <th>2</th>\n",
       "      <td>-4.039058</td>\n",
       "      <td>0.335102</td>\n",
       "      <td>0.544618</td>\n",
       "      <td>1</td>\n",
       "    </tr>\n",
       "    <tr>\n",
       "      <th>3</th>\n",
       "      <td>0.793526</td>\n",
       "      <td>-0.235277</td>\n",
       "      <td>0.551771</td>\n",
       "      <td>1</td>\n",
       "    </tr>\n",
       "    <tr>\n",
       "      <th>4</th>\n",
       "      <td>3.820273</td>\n",
       "      <td>-0.274691</td>\n",
       "      <td>0.454743</td>\n",
       "      <td>1</td>\n",
       "    </tr>\n",
       "  </tbody>\n",
       "</table>\n",
       "</div>"
      ],
      "text/plain": [
       "   feature1  feature2  feature3  target\n",
       "0 -6.672418 -1.206198 -1.081050       0\n",
       "1  1.675598  0.614994 -0.971600       0\n",
       "2 -4.039058  0.335102  0.544618       1\n",
       "3  0.793526 -0.235277  0.551771       1\n",
       "4  3.820273 -0.274691  0.454743       1"
      ]
     },
     "execution_count": 13,
     "metadata": {},
     "output_type": "execute_result"
    }
   ],
   "source": [
    "Dataset = pd.read_csv('dataset_FLD.csv', names = ['feature1', 'feature2', 'feature3', 'target'], sep = ',')\n",
    "Dataset.head()"
   ]
  },
  {
   "cell_type": "code",
   "execution_count": 3,
   "metadata": {},
   "outputs": [],
   "source": [
    "#Dividing Dataset into 2 classes\n",
    "pClass = Dataset[Dataset.iloc[:, -1] == 1].to_numpy()\n",
    "nClass = Dataset[Dataset.iloc[:, -1] == 0].to_numpy()\n",
    "\n",
    "X_p = pClass[:, :-1]\n",
    "y_p = pClass[:, -1].reshape(-1, 1)\n",
    "\n",
    "X_n = nClass[:, :-1]\n",
    "y_n = nClass[:, -1].reshape(-1, 1)"
   ]
  },
  {
   "cell_type": "code",
   "execution_count": 4,
   "metadata": {},
   "outputs": [
    {
     "data": {
      "text/plain": [
       "((500, 3), (500, 1), (500, 3), (500, 1))"
      ]
     },
     "execution_count": 4,
     "metadata": {},
     "output_type": "execute_result"
    }
   ],
   "source": [
    "X_p.shape, y_p.shape, X_n.shape, y_n.shape"
   ]
  },
  {
   "cell_type": "markdown",
   "metadata": {},
   "source": [
    "## Terms :\n",
    "\n",
    "<font size = \"4\">\n",
    "<br><code>S<sub>w</sub></code> : Total within class covariance matrix<br/>\n",
    "<br><code>M<sub>1</sub></code> : Mean vector of class 0<br/>\n",
    "<br><code>M<sub>2</sub></code> : Mean vector of class 1<br/>\n",
    "<br><code>w</code> : Weight vector<br/>\n",
    "<br>$w \\propto S_w^{-1}(M_1 - M_2)$<br/>\n",
    "</font>"
   ]
  },
  {
   "cell_type": "code",
   "execution_count": null,
   "metadata": {},
   "outputs": [],
   "source": [
    "def getW(X_p, X_n):\n",
    "    M_p = np.mean(X_p, axis = 0)\n",
    "    M_n = np.mean(X_n, axis = 0)\n",
    "    \n",
    "    C1 = np.cov(X_p.T)\n",
    "    C2 = np.cov(X_n.T)\n",
    "    \n",
    "    #Total within class covariance\n",
    "    Sw = np.add(C1, C2)\n",
    "    Sw_in = np.linalg.inv(Sw)\n",
    "    \n",
    "    W = np.dot(Sw_in, (M_p - M_n))\n",
    "    \n",
    "    #Normalise???????\n",
    "    return W"
   ]
  },
  {
   "cell_type": "code",
   "execution_count": 6,
   "metadata": {},
   "outputs": [],
   "source": [
    "def getGaussianStats(X, W):\n",
    "    D = np.dot(W, X.T)\n",
    "    mean = np.mean(D)\n",
    "    std = np.std(D)\n",
    "    var = np.var(D)\n",
    "    \n",
    "    Z = -((X - mean) ** 2)/(2 * var)\n",
    "    Y = (1 / np.sqrt( 2 * np.pi * var)) * np.exp(Z)\n",
    "    \n",
    "    stats = {'mean': mean, 'std': std, 'var': var, 'pdf': Y}\n",
    "    return stats"
   ]
  },
  {
   "cell_type": "markdown",
   "metadata": {},
   "source": [
    "## Finding intersecting point\n",
    "\n",
    "<font size = \"4\">Let the Gaussian Distribution of the classes : <code>0</code> and <code>1</code></font>\n",
    "\n",
    "<font size = \"4\">$y_0 = \\frac{1}{\\sqrt{2\\pi\\sigma^{2}_0}} e^{\\frac{-(X - \\mu_0)^2}{2\\sigma_0}}$</font>\n",
    "    \n",
    "<font size = \"4\">$y_1 = \\frac{1}{\\sqrt{2\\pi\\sigma^{2}_1}} e^{\\frac{-(X - \\mu_1)^2}{2\\sigma_1}}$</font>\n",
    "\n",
    "On solving for the intersection point we get - \n",
    "    \n",
    "<font size = \"4\">$(\\frac{1}{\\sigma_0^{2}} - \\frac{1}{\\sigma_1^{2}})x^2 + 2(\\frac{\\mu_0}{\\sigma_0^{2}} - \\frac{\\mu_1}{\\sigma_1^{2}})x + \\frac{\\mu_1^2}{\\sigma_1^2} - \\frac{\\mu_0^2}{\\sigma_0^2} + \\log(\\frac{\\mu_1}{\\mu_0}) = 0$ </font>\n"
   ]
  },
  {
   "cell_type": "code",
   "execution_count": 7,
   "metadata": {},
   "outputs": [],
   "source": [
    "def getIntersectionPoint(X_p, X_n, W):\n",
    "    pStats = getGaussianStats(X_p, W)\n",
    "    pMean, pVar = pStats['mean'], pStats['var']\n",
    "    nStats = getGaussianStats(X_n, W)\n",
    "    nMean, nVar = nStats['mean'], nStats['var']\n",
    "    \n",
    "    a = (1 / pVar) - (1 / nVar)\n",
    "    b = 2 * (pMean/pVar - nMean/nVar)\n",
    "    c = (((nMean ** 2)/nVar - (pMean ** 2)/pVar) + np.log(nVar/pVar))\n",
    "    \n",
    "    roots = np.roots([a, b, c])\n",
    "    return roots[1]\n"
   ]
  },
  {
   "cell_type": "code",
   "execution_count": 8,
   "metadata": {},
   "outputs": [],
   "source": [
    "def predictions(X, W, threshold):\n",
    "    projections = np.dot(W, X.T).reshape(-1, 1)\n",
    "    \n",
    "    P = (projections >= threshold).astype(int).reshape(-1, 1)\n",
    "    return P"
   ]
  },
  {
   "cell_type": "code",
   "execution_count": 9,
   "metadata": {},
   "outputs": [],
   "source": [
    "def accuracy(A, P):\n",
    "    C = 0\n",
    "    W = 0\n",
    "    for i in range(len(A)):\n",
    "        if(A[i] == P[i]):\n",
    "            C += 1\n",
    "        else:\n",
    "            W += 1\n",
    "    acc = C / (C + W)\n",
    "    return acc\n",
    "            "
   ]
  },
  {
   "cell_type": "code",
   "execution_count": 10,
   "metadata": {},
   "outputs": [],
   "source": [
    "def FLD(X_p, X_n, y_p):\n",
    "    W = getW(X_p, X_n)\n",
    "    \n",
    "    threshold = getIntersectionPoint(X_p, X_n, W)\n",
    "    P = predictions(X_p, W, threshold)\n",
    "    acc = accuracy(y_p, P)\n",
    "    return acc"
   ]
  },
  {
   "cell_type": "code",
   "execution_count": 11,
   "metadata": {},
   "outputs": [
    {
     "data": {
      "text/plain": [
       "0.998"
      ]
     },
     "execution_count": 11,
     "metadata": {},
     "output_type": "execute_result"
    }
   ],
   "source": [
    "FLD(X_p, X_n, y_p)"
   ]
  },
  {
   "cell_type": "code",
   "execution_count": null,
   "metadata": {},
   "outputs": [],
   "source": []
  }
 ],
 "metadata": {
  "kernelspec": {
   "display_name": "Python 3",
   "language": "python",
   "name": "python3"
  },
  "language_info": {
   "codemirror_mode": {
    "name": "ipython",
    "version": 3
   },
   "file_extension": ".py",
   "mimetype": "text/x-python",
   "name": "python",
   "nbconvert_exporter": "python",
   "pygments_lexer": "ipython3",
   "version": "3.8.5"
  }
 },
 "nbformat": 4,
 "nbformat_minor": 4
}
