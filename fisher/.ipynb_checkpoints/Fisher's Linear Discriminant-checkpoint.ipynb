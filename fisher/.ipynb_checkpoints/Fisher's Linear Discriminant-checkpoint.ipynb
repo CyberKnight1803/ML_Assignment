{
 "cells": [
  {
   "cell_type": "code",
   "execution_count": 1,
   "metadata": {},
   "outputs": [],
   "source": [
    "import numpy as np\n",
    "import pandas as pd\n",
    "import matplotlib.pyplot as plt"
   ]
  },
  {
   "cell_type": "code",
   "execution_count": 2,
   "metadata": {},
   "outputs": [
    {
     "data": {
      "text/html": [
       "<div>\n",
       "<style scoped>\n",
       "    .dataframe tbody tr th:only-of-type {\n",
       "        vertical-align: middle;\n",
       "    }\n",
       "\n",
       "    .dataframe tbody tr th {\n",
       "        vertical-align: top;\n",
       "    }\n",
       "\n",
       "    .dataframe thead th {\n",
       "        text-align: right;\n",
       "    }\n",
       "</style>\n",
       "<table border=\"1\" class=\"dataframe\">\n",
       "  <thead>\n",
       "    <tr style=\"text-align: right;\">\n",
       "      <th></th>\n",
       "      <th>x1</th>\n",
       "      <th>x2</th>\n",
       "      <th>x3</th>\n",
       "      <th>y</th>\n",
       "    </tr>\n",
       "  </thead>\n",
       "  <tbody>\n",
       "    <tr>\n",
       "      <th>0</th>\n",
       "      <td>-6.672418</td>\n",
       "      <td>-1.206198</td>\n",
       "      <td>-1.081050</td>\n",
       "      <td>0</td>\n",
       "    </tr>\n",
       "    <tr>\n",
       "      <th>1</th>\n",
       "      <td>1.675598</td>\n",
       "      <td>0.614994</td>\n",
       "      <td>-0.971600</td>\n",
       "      <td>0</td>\n",
       "    </tr>\n",
       "    <tr>\n",
       "      <th>2</th>\n",
       "      <td>-4.039058</td>\n",
       "      <td>0.335102</td>\n",
       "      <td>0.544618</td>\n",
       "      <td>1</td>\n",
       "    </tr>\n",
       "    <tr>\n",
       "      <th>3</th>\n",
       "      <td>0.793526</td>\n",
       "      <td>-0.235277</td>\n",
       "      <td>0.551771</td>\n",
       "      <td>1</td>\n",
       "    </tr>\n",
       "    <tr>\n",
       "      <th>4</th>\n",
       "      <td>3.820273</td>\n",
       "      <td>-0.274691</td>\n",
       "      <td>0.454743</td>\n",
       "      <td>1</td>\n",
       "    </tr>\n",
       "  </tbody>\n",
       "</table>\n",
       "</div>"
      ],
      "text/plain": [
       "         x1        x2        x3  y\n",
       "0 -6.672418 -1.206198 -1.081050  0\n",
       "1  1.675598  0.614994 -0.971600  0\n",
       "2 -4.039058  0.335102  0.544618  1\n",
       "3  0.793526 -0.235277  0.551771  1\n",
       "4  3.820273 -0.274691  0.454743  1"
      ]
     },
     "execution_count": 2,
     "metadata": {},
     "output_type": "execute_result"
    }
   ],
   "source": [
    "Dataset = pd.read_csv('dataset_FLD.csv', names = ['x1', 'x2', 'x3', 'y'], sep = ',')\n",
    "Dataset.head()"
   ]
  },
  {
   "cell_type": "code",
   "execution_count": 3,
   "metadata": {},
   "outputs": [],
   "source": [
    "#Dividing Dataset into 2 classes\n",
    "pClass = Dataset[Dataset.iloc[:, -1] == 1].to_numpy()\n",
    "nClass = Dataset[Dataset.iloc[:, -1] == 0].to_numpy()\n",
    "\n",
    "X_p = pClass[:, :-1]\n",
    "y_p = pClass[:, -1].reshape(-1, 1)\n",
    "\n",
    "X_n = nClass[:, :-1]\n",
    "y_n = nClass[:, -1].reshape(-1, 1)"
   ]
  },
  {
   "cell_type": "code",
   "execution_count": 4,
   "metadata": {},
   "outputs": [
    {
     "data": {
      "text/plain": [
       "((500, 3), (500, 1), (500, 3), (500, 1))"
      ]
     },
     "execution_count": 4,
     "metadata": {},
     "output_type": "execute_result"
    }
   ],
   "source": [
    "X_p.shape, y_p.shape, X_n.shape, y_n.shape"
   ]
  },
  {
   "cell_type": "code",
   "execution_count": 5,
   "metadata": {},
   "outputs": [],
   "source": [
    "def getW(X_p, X_n):\n",
    "    M_p = np.mean(X_p, axis = 0)\n",
    "    M_n = np.mean(X_n, axis = 0)\n",
    "    \n",
    "    C1 = np.cov(X_p.T)\n",
    "    C2 = np.cov(X_n.T)\n",
    "    \n",
    "    #Total within class covariance\n",
    "    Sw = np.add(C1, C2)\n",
    "    Sw_in = np.linalg.inv(Sw)\n",
    "    \n",
    "    W = np.dot(Sw_in, (M_p - M_n))\n",
    "    \n",
    "    #Normalise???????\n",
    "    return W"
   ]
  },
  {
   "cell_type": "code",
   "execution_count": 6,
   "metadata": {},
   "outputs": [],
   "source": [
    "def getGaussianStats(X, W):\n",
    "    D = np.dot(W, X.T)\n",
    "    mean = np.mean(D)\n",
    "    std = np.std(D)\n",
    "    var = np.var(D)\n",
    "    \n",
    "    Z = -((X - mean) ** 2)/(2 * var)\n",
    "    Y = (1 / np.sqrt( 2 * np.pi * var)) * np.exp(Z)\n",
    "    \n",
    "    stats = {'mean': mean, 'std': std, 'var': var, 'pdf': Y}\n",
    "    return stats"
   ]
  },
  {
   "cell_type": "code",
   "execution_count": 7,
   "metadata": {},
   "outputs": [],
   "source": [
    "def getIntersectionPoint(X_p, X_n, W):\n",
    "    pStats = getGaussianStats(X_p, W)\n",
    "    pMean, pVar = pStats['mean'], pStats['var']\n",
    "    nStats = getGaussianStats(X_n, W)\n",
    "    nMean, nVar = nStats['mean'], nStats['var']\n",
    "    \n",
    "    a = (1 / pVar) - (1 / nVar)\n",
    "    b = 2 * (pMean/pVar - nMean/nVar)\n",
    "    c = (((nMean ** 2)/nVar - (pMean ** 2)/pVar) + np.log(nVar/pVar))\n",
    "    \n",
    "    D = (b ** 2 - 4 * a * c)\n",
    "    a1 = (-b + np.sqrt(D)) / (2 * a)\n",
    "    a2 = (-b - np.sqrt(D)) / (2 * a)\n",
    "    \n",
    "    return a1, a2"
   ]
  },
  {
   "cell_type": "code",
   "execution_count": 8,
   "metadata": {},
   "outputs": [],
   "source": [
    "def predictions(X, W, threshold):\n",
    "    projections = np.dot(W, X.T).reshape(-1, 1)\n",
    "    \n",
    "    P = (projections >= threshold).astype(int).reshape(-1, 1)\n",
    "    return P"
   ]
  },
  {
   "cell_type": "code",
   "execution_count": 9,
   "metadata": {},
   "outputs": [],
   "source": [
    "def accuracy(A, P):\n",
    "    C = 0, W = 0\n",
    "    for i in range(len(A)):\n",
    "        if(A[i] == P[i])\n",
    "            C += 1\n",
    "        else\n",
    "            W += 1\n",
    "    acc = C / (C + W)\n",
    "    return acc\n",
    "            "
   ]
  },
  {
   "cell_type": "code",
   "execution_count": 10,
   "metadata": {},
   "outputs": [],
   "source": [
    "def FLD(X_p, X_n, y_p):\n",
    "    W = getW(X_p, X_n)\n",
    "    \n",
    "    threshold = getIntersectionPoint(X_p, X_n, W)\n",
    "    P = predictions(X_p, W, threshold)\n",
    "    acc = accuracy(y_p, P)\n",
    "    return acc"
   ]
  },
  {
   "cell_type": "code",
   "execution_count": 11,
   "metadata": {},
   "outputs": [
    {
     "name": "stderr",
     "output_type": "stream",
     "text": [
      "<ipython-input-9-b9ab90d5bbf7>:2: DeprecationWarning: elementwise comparison failed; this will raise an error in the future.\n",
      "  return np.mean((A == P)).astype(int).reshape(-1, 1)\n"
     ]
    },
    {
     "data": {
      "text/plain": [
       "array([[0]])"
      ]
     },
     "execution_count": 11,
     "metadata": {},
     "output_type": "execute_result"
    }
   ],
   "source": [
    "FLD(X_p, X_n, y_p)"
   ]
  },
  {
   "cell_type": "code",
   "execution_count": null,
   "metadata": {},
   "outputs": [],
   "source": []
  }
 ],
 "metadata": {
  "kernelspec": {
   "display_name": "Python 3",
   "language": "python",
   "name": "python3"
  },
  "language_info": {
   "codemirror_mode": {
    "name": "ipython",
    "version": 3
   },
   "file_extension": ".py",
   "mimetype": "text/x-python",
   "name": "python",
   "nbconvert_exporter": "python",
   "pygments_lexer": "ipython3",
   "version": "3.8.5"
  }
 },
 "nbformat": 4,
 "nbformat_minor": 4
}
