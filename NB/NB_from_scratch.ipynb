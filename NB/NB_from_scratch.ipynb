{
  "nbformat": 4,
  "nbformat_minor": 0,
  "metadata": {
    "colab": {
      "name": "NB from scratch",
      "provenance": [],
      "collapsed_sections": [],
      "toc_visible": true
    },
    "kernelspec": {
      "name": "python3",
      "display_name": "Python 3",
      "language": "python"
    }
  },
  "cells": [
    {
      "cell_type": "code",
      "metadata": {
        "id": "GMdIKcgTpuWU"
      },
      "source": [
        "import pandas as pd\n",
        "import numpy as np\n",
        "import re\n",
        "pd.set_option('mode.chained_assignment', None)"
      ],
      "execution_count": 1,
      "outputs": []
    },
    {
      "cell_type": "code",
      "metadata": {
        "colab": {
          "base_uri": "https://localhost:8080/",
          "height": 196
        },
        "id": "1epQOLDip6Yr",
        "outputId": "de35b10c-1977-4e27-9465-5c4574ac4847"
      },
      "source": [
        "data = pd.read_csv(r'dataset_NB.txt', sep='\\n', header=None)\n",
        "data.head()"
      ],
      "execution_count": 10,
      "outputs": [
        {
          "output_type": "execute_result",
          "data": {
            "text/plain": [
              "                                                   0\n",
              "0  So there is no way for me to plug it in here i...\n",
              "1                      Good case, Excellent value. 1\n",
              "2                          Great for the jawbone.  1\n",
              "3  Tied to charger for conversations lasting more...\n",
              "4                              The mic is great.   1"
            ],
            "text/html": "<div>\n<style scoped>\n    .dataframe tbody tr th:only-of-type {\n        vertical-align: middle;\n    }\n\n    .dataframe tbody tr th {\n        vertical-align: top;\n    }\n\n    .dataframe thead th {\n        text-align: right;\n    }\n</style>\n<table border=\"1\" class=\"dataframe\">\n  <thead>\n    <tr style=\"text-align: right;\">\n      <th></th>\n      <th>0</th>\n    </tr>\n  </thead>\n  <tbody>\n    <tr>\n      <th>0</th>\n      <td>So there is no way for me to plug it in here i...</td>\n    </tr>\n    <tr>\n      <th>1</th>\n      <td>Good case, Excellent value. 1</td>\n    </tr>\n    <tr>\n      <th>2</th>\n      <td>Great for the jawbone.  1</td>\n    </tr>\n    <tr>\n      <th>3</th>\n      <td>Tied to charger for conversations lasting more...</td>\n    </tr>\n    <tr>\n      <th>4</th>\n      <td>The mic is great.   1</td>\n    </tr>\n  </tbody>\n</table>\n</div>"
          },
          "metadata": {},
          "execution_count": 10
        }
      ]
    },
    {
      "cell_type": "code",
      "metadata": {
        "colab": {
          "base_uri": "https://localhost:8080/",
          "height": 196
        },
        "id": "ZGnqjKdFp7Z5",
        "outputId": "c2d7e87f-a9fe-4f85-bc07-8be37d901cdf"
      },
      "source": [
        "df = pd.DataFrame(data=np.asarray(data), columns=['EMAILS'])\n",
        "df.insert(1, \"sentiment\", 'NULL')\n",
        "df.head()\n"
      ],
      "execution_count": 11,
      "outputs": [
        {
          "output_type": "execute_result",
          "data": {
            "text/plain": [
              "                                              EMAILS sentiment\n",
              "0  So there is no way for me to plug it in here i...      NULL\n",
              "1                      Good case, Excellent value. 1      NULL\n",
              "2                          Great for the jawbone.  1      NULL\n",
              "3  Tied to charger for conversations lasting more...      NULL\n",
              "4                              The mic is great.   1      NULL"
            ],
            "text/html": "<div>\n<style scoped>\n    .dataframe tbody tr th:only-of-type {\n        vertical-align: middle;\n    }\n\n    .dataframe tbody tr th {\n        vertical-align: top;\n    }\n\n    .dataframe thead th {\n        text-align: right;\n    }\n</style>\n<table border=\"1\" class=\"dataframe\">\n  <thead>\n    <tr style=\"text-align: right;\">\n      <th></th>\n      <th>EMAILS</th>\n      <th>sentiment</th>\n    </tr>\n  </thead>\n  <tbody>\n    <tr>\n      <th>0</th>\n      <td>So there is no way for me to plug it in here i...</td>\n      <td>NULL</td>\n    </tr>\n    <tr>\n      <th>1</th>\n      <td>Good case, Excellent value. 1</td>\n      <td>NULL</td>\n    </tr>\n    <tr>\n      <th>2</th>\n      <td>Great for the jawbone.  1</td>\n      <td>NULL</td>\n    </tr>\n    <tr>\n      <th>3</th>\n      <td>Tied to charger for conversations lasting more...</td>\n      <td>NULL</td>\n    </tr>\n    <tr>\n      <th>4</th>\n      <td>The mic is great.   1</td>\n      <td>NULL</td>\n    </tr>\n  </tbody>\n</table>\n</div>"
          },
          "metadata": {},
          "execution_count": 11
        }
      ]
    },
    {
      "cell_type": "code",
      "metadata": {
        "id": "YHhzzuO1p7XA"
      },
      "source": [
        "# sentiment is the last character in the string\n",
        "for i in range(df.shape[0]):\n",
        "    df['sentiment'][i] = int(df['EMAILS'][i][-1])\n",
        "    df['EMAILS'][i] = df['EMAILS'][i][:-1]\n",
        "    df['EMAILS'][i].strip()"
      ],
      "execution_count": 12,
      "outputs": []
    },
    {
      "cell_type": "code",
      "metadata": {
        "colab": {
          "base_uri": "https://localhost:8080/",
          "height": 196
        },
        "id": "HSsdeVWTp7Uw",
        "outputId": "0371db18-b737-4529-8377-f5749203c4a4"
      },
      "source": [
        "df.head()"
      ],
      "execution_count": 13,
      "outputs": [
        {
          "output_type": "execute_result",
          "data": {
            "text/plain": [
              "                                              EMAILS sentiment\n",
              "0  So there is no way for me to plug it in here i...         0\n",
              "1                       Good case, Excellent value.          1\n",
              "2                           Great for the jawbone.           1\n",
              "3  Tied to charger for conversations lasting more...         0\n",
              "4                               The mic is great.            1"
            ],
            "text/html": "<div>\n<style scoped>\n    .dataframe tbody tr th:only-of-type {\n        vertical-align: middle;\n    }\n\n    .dataframe tbody tr th {\n        vertical-align: top;\n    }\n\n    .dataframe thead th {\n        text-align: right;\n    }\n</style>\n<table border=\"1\" class=\"dataframe\">\n  <thead>\n    <tr style=\"text-align: right;\">\n      <th></th>\n      <th>EMAILS</th>\n      <th>sentiment</th>\n    </tr>\n  </thead>\n  <tbody>\n    <tr>\n      <th>0</th>\n      <td>So there is no way for me to plug it in here i...</td>\n      <td>0</td>\n    </tr>\n    <tr>\n      <th>1</th>\n      <td>Good case, Excellent value.</td>\n      <td>1</td>\n    </tr>\n    <tr>\n      <th>2</th>\n      <td>Great for the jawbone.</td>\n      <td>1</td>\n    </tr>\n    <tr>\n      <th>3</th>\n      <td>Tied to charger for conversations lasting more...</td>\n      <td>0</td>\n    </tr>\n    <tr>\n      <th>4</th>\n      <td>The mic is great.</td>\n      <td>1</td>\n    </tr>\n  </tbody>\n</table>\n</div>"
          },
          "metadata": {},
          "execution_count": 13
        }
      ]
    },
    {
      "cell_type": "markdown",
      "metadata": {
        "id": "op_X_XQ36HcC"
      },
      "source": [
        "\n",
        "\n",
        "\\begin{equation*}\n",
        "[x_{1},x_{2},x_{3}............x_{n}]\n",
        "\\end{equation*}\n",
        "\n",
        "\\begin{equation*}\n",
        "P(C\\mid x) = P(C)\\times P(x_{1}\\mid C)\\times P(x_{2}\\mid C))\\times P(x_{3}\\mid C)).....P(x_{n}\\mid C))\n",
        "\\end{equation*}\n",
        "\n",
        "---\n",
        "\n",
        "where,\n",
        "\n",
        "[$x1$,$x2$......$xn$] denotes list of words in an email\n",
        "\n"

      ]
    },
    {
      "cell_type": "code",
      "metadata": {
        "id": "2nommugBqluN"
      },
      "source": [
        "def preprocess(text_str):\n",
        "    text_str = re.sub(r'([^a-zA-Z ])', '', text_str)\n",
        "    text_str = re.sub('(\\s+)', ' ', text_str)\n",
        "    text_str = re.sub(r'(^|\\W)\\d+', '', text_str)\n",
        "    text_str = text_str.lower()\n",
        "    text_str = text_str.strip().split()\n",
        "    return text_str"
      ],
      "execution_count": 14,
      "outputs": []
    },
    {
      "cell_type": "code",
      "metadata": {
        "id": "CVPJEdLu7uDA",
        "colab": {
          "base_uri": "https://localhost:8080/"
        },
        "outputId": "d3625329-92c3-4e2d-a5ff-c50578c481a1"
      },
      "source": [
        "preprocess(df['EMAILS'][0])"
      ],
      "execution_count": 7,
      "outputs": [
        {
          "output_type": "execute_result",
          "data": {
            "text/plain": [
              "['so',\n",
              " 'there',\n",
              " 'is',\n",
              " 'no',\n",
              " 'way',\n",
              " 'for',\n",
              " 'me',\n",
              " 'to',\n",
              " 'plug',\n",
              " 'it',\n",
              " 'in',\n",
              " 'here',\n",
              " 'in',\n",
              " 'the',\n",
              " 'us',\n",
              " 'unless',\n",
              " 'i',\n",
              " 'go',\n",
              " 'by',\n",
              " 'a',\n",
              " 'converter']"
            ]
          },
          "metadata": {
            "tags": []
          },
          "execution_count": 7
        }
      ]
    },
    {
      "cell_type": "code",
      "metadata": {
        "id": "pW7OJ68MqCj1"
      },
      "source": [
        "class Naive_Bayes:\n",
        "    def __init__(self, train, test):\n",
        "        self.train = train\n",
        "        self.test = test\n",
        "        self.test['pred_sentiment'] = 'NULL'\n",
        "        self.accuracy = []\n",
        "\n",
        "    def train_NB(self):\n",
        "        pos_tot = 0\n",
        "        neg_tot = 0\n",
        "        voc = dict()  # dictionary with (word, sentiment) as key\n",
        "        pos_words = set([])\n",
        "        neg_words = set([])  # set of words\n",
        "\n",
        "        for i in range(self.train.shape[0]):\n",
        "            sentiment = self.train['sentiment'][i]\n",
        "\n",
        "            if sentiment == 1:\n",
        "                pos_tot += 1\n",
        "                for words in self.train['EMAILS'][i]:\n",
        "                    pos_words.add(words)\n",
        "\n",
        "            if sentiment == 0:\n",
        "                neg_tot += 1\n",
        "                for words in self.train['EMAILS'][i]:\n",
        "                    neg_words.add(words)\n",
        "\n",
        "            for word in self.train['EMAILS'][i]:\n",
        "                sentiment = self.train['sentiment'][i]\n",
        "                pair = (word, sentiment)\n",
        "                if pair in voc.keys():\n",
        "                    voc[pair] += 1\n",
        "                else:\n",
        "                    voc[pair] = 1\n",
        "\n",
        "        unique = set([])\n",
        "        \n",
        "        for key in voc.keys():\n",
        "            unique.add(key[0])\n",
        "\n",
        "        num_vocab = len(unique)\n",
        "\n",
        "        self.voc = voc\n",
        "        self.num_vocab = num_vocab\n",
        "        self.pos_tot = pos_tot\n",
        "        self.neg_tot = neg_tot\n",
        "        self.pos_words = pos_words\n",
        "        self.neg_words = neg_words\n",
        "\n",
        "    def test_NB(self, alpha):\n",
        "        for i in range(self.test.shape[0]):\n",
        "            accuracy = []\n",
        "            pro_neg = self.neg_tot / \\\n",
        "                (self.pos_tot + self.neg_tot)  # prior probability\n",
        "            pro_pos = self.pos_tot / (self.pos_tot + self.neg_tot)\n",
        "\n",
        "            for word in self.test['EMAILS'][i]:\n",
        "                pair1 = (word, 0)\n",
        "                pair2 = (word, 1)\n",
        "                if pair1 not in self.voc.keys():\n",
        "                    pro1 = 0\n",
        "                else:\n",
        "                    pro1 = self.voc[pair1]\n",
        "                if pair2 not in self.voc.keys():\n",
        "                    pro2 = 0\n",
        "                else:\n",
        "                    pro2 = self.voc[pair2]\n",
        "\n",
        "                pro_neg *= ((pro1 + alpha) /\n",
        "                            (len(self.neg_words) + alpha*self.num_vocab))\n",
        "                pro_pos *= ((pro2 + alpha) /\n",
        "                            (len(self.pos_words) + alpha*self.num_vocab))\n",
        "\n",
        "            if pro_neg > pro_pos:\n",
        "                self.test['pred_sentiment'][i] = 0\n",
        "            elif pro_pos > pro_neg:\n",
        "                self.test['pred_sentiment'][i] = 1\n",
        "        arr1 = self.test['sentiment'].to_numpy()\n",
        "        arr2 = self.test['pred_sentiment'].to_numpy()\n",
        "        accuracy.append((np.sum(arr1 == arr2)/self.test.shape[0]))\n",
        "        return round(accuracy[0], 2)"
      ],
      "execution_count": 8,
      "outputs": []
    },
    {
      "cell_type": "code",
      "metadata": {
        "id": "k-AWUhhBqCg8"
      },
      "source": [
        "for i in range(df.shape[0]):\n",
        "    df['EMAILS'][i] = preprocess(df['EMAILS'][i])\n",
        "\n",
        "sum = 0\n",
        "alpha = 1    # laplace smoothing\n",
        "kfold = 7\n",
        "n = df.shape[0] // kfold\n",
        "df.sample(frac=1)  # random\n",
        "folds = [df[i: i + n] for i in range(0, len(df), n)]"
      ],
      "execution_count": 9,
      "outputs": []
    },
    {
      "cell_type": "code",
      "metadata": {
        "id": "BiPa-NPxqCe0",
        "colab": {
          "base_uri": "https://localhost:8080/"
        },
        "outputId": "fddbffae-d95b-4bf0-a0d6-b852c40e4860"
      },
      "source": [
        "for i in range(kfold):\n",
        "    # k fold CV\n",
        "    train_data = []\n",
        "    test_data = folds[i]\n",
        "    # print(test_data.head())\n",
        "    test_data = test_data.reset_index()\n",
        "\n",
        "    for j in range(kfold):\n",
        "        if i != j:\n",
        "            train_data.append(folds[j])\n",
        "\n",
        "    temp = train_data[0]\n",
        "    for k in range(1, kfold-1):\n",
        "        temp = pd.concat([temp, train_data[k]], ignore_index=True)\n",
        "\n",
        "    NB = Naive_Bayes(temp, test_data)\n",
        "    NB.train_NB()\n",
        "    prob=(NB.test_NB(alpha))\n",
        "    print(\"accuracy in fold\",i+1,prob)\n",
        "    sum = sum + prob\n",
        "\n",
        "print(\"avg accuracy : {:0.2f}\".format(sum/kfold))"
      ],
      "execution_count": 10,
      "outputs": [
        {
          "output_type": "stream",
          "name": "stdout",
          "text": [
            "accuracy in fold 1 0.82\n",
            "accuracy in fold 2 0.87\n",
            "accuracy in fold 3 0.8\n",
            "accuracy in fold 4 0.78\n",
            "accuracy in fold 5 0.79\n",
            "accuracy in fold 6 0.82\n",
            "accuracy in fold 7 0.8\n",
            "avg accuracy : 0.81\n"
          ],
          "name": "stdout"

        }
      ]
    }
  ]
}