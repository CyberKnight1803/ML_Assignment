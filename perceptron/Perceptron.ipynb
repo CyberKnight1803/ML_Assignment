{
 "cells": [
  {
   "cell_type": "code",
   "execution_count": 1,
   "id": "tamil-shopper",
   "metadata": {},
   "outputs": [],
   "source": [
    "from tqdm import tqdm\n",
    "\n",
    "import numpy as np\n",
    "import pandas as pd\n",
    "import matplotlib.pyplot as plt\n",
    "from mpl_toolkits.mplot3d import Axes3D\n",
    "\n",
    "%matplotlib inline\n",
    "\n",
    "plt.rcParams['figure.figsize'] = [10, 6]\n",
    "plt.rcParams['figure.dpi'] = 200"
   ]
  },
  {
   "cell_type": "code",
   "execution_count": 2,
   "id": "wired-style",
   "metadata": {},
   "outputs": [
    {
     "data": {
      "text/html": [
       "<div>\n",
       "<style scoped>\n",
       "    .dataframe tbody tr th:only-of-type {\n",
       "        vertical-align: middle;\n",
       "    }\n",
       "\n",
       "    .dataframe tbody tr th {\n",
       "        vertical-align: top;\n",
       "    }\n",
       "\n",
       "    .dataframe thead th {\n",
       "        text-align: right;\n",
       "    }\n",
       "</style>\n",
       "<table border=\"1\" class=\"dataframe\">\n",
       "  <thead>\n",
       "    <tr style=\"text-align: right;\">\n",
       "      <th></th>\n",
       "      <th>0</th>\n",
       "      <th>1</th>\n",
       "      <th>2</th>\n",
       "      <th>3</th>\n",
       "    </tr>\n",
       "  </thead>\n",
       "  <tbody>\n",
       "    <tr>\n",
       "      <th>0</th>\n",
       "      <td>-6.672418</td>\n",
       "      <td>-1.206198</td>\n",
       "      <td>-1.081050</td>\n",
       "      <td>0</td>\n",
       "    </tr>\n",
       "    <tr>\n",
       "      <th>1</th>\n",
       "      <td>1.675598</td>\n",
       "      <td>0.614994</td>\n",
       "      <td>-0.971600</td>\n",
       "      <td>0</td>\n",
       "    </tr>\n",
       "    <tr>\n",
       "      <th>2</th>\n",
       "      <td>-4.039058</td>\n",
       "      <td>0.335102</td>\n",
       "      <td>0.544618</td>\n",
       "      <td>1</td>\n",
       "    </tr>\n",
       "    <tr>\n",
       "      <th>3</th>\n",
       "      <td>0.793526</td>\n",
       "      <td>-0.235277</td>\n",
       "      <td>0.551771</td>\n",
       "      <td>1</td>\n",
       "    </tr>\n",
       "    <tr>\n",
       "      <th>4</th>\n",
       "      <td>3.820273</td>\n",
       "      <td>-0.274691</td>\n",
       "      <td>0.454743</td>\n",
       "      <td>1</td>\n",
       "    </tr>\n",
       "  </tbody>\n",
       "</table>\n",
       "</div>"
      ],
      "text/plain": [
       "          0         1         2  3\n",
       "0 -6.672418 -1.206198 -1.081050  0\n",
       "1  1.675598  0.614994 -0.971600  0\n",
       "2 -4.039058  0.335102  0.544618  1\n",
       "3  0.793526 -0.235277  0.551771  1\n",
       "4  3.820273 -0.274691  0.454743  1"
      ]
     },
     "execution_count": 2,
     "metadata": {},
     "output_type": "execute_result"
    }
   ],
   "source": [
    "# dataset_path = 'dataset_LP_1.txt' \n",
    "dataset_path = 'dataset_LP_2.csv'\n",
    "\n",
    "df = pd.read_csv(dataset_path, header=None)\n",
    "df.head()"
   ]
  },
  {
   "cell_type": "code",
   "execution_count": 3,
   "id": "hearing-detective",
   "metadata": {},
   "outputs": [
    {
     "data": {
      "text/html": [
       "<div>\n",
       "<style scoped>\n",
       "    .dataframe tbody tr th:only-of-type {\n",
       "        vertical-align: middle;\n",
       "    }\n",
       "\n",
       "    .dataframe tbody tr th {\n",
       "        vertical-align: top;\n",
       "    }\n",
       "\n",
       "    .dataframe thead th {\n",
       "        text-align: right;\n",
       "    }\n",
       "</style>\n",
       "<table border=\"1\" class=\"dataframe\">\n",
       "  <thead>\n",
       "    <tr style=\"text-align: right;\">\n",
       "      <th></th>\n",
       "      <th>0</th>\n",
       "      <th>1</th>\n",
       "      <th>2</th>\n",
       "      <th>3</th>\n",
       "    </tr>\n",
       "  </thead>\n",
       "  <tbody>\n",
       "    <tr>\n",
       "      <th>count</th>\n",
       "      <td>1000.000000</td>\n",
       "      <td>1000.000000</td>\n",
       "      <td>1000.000000</td>\n",
       "      <td>1000.00000</td>\n",
       "    </tr>\n",
       "    <tr>\n",
       "      <th>mean</th>\n",
       "      <td>0.162699</td>\n",
       "      <td>0.052964</td>\n",
       "      <td>0.002570</td>\n",
       "      <td>0.50000</td>\n",
       "    </tr>\n",
       "    <tr>\n",
       "      <th>std</th>\n",
       "      <td>3.012325</td>\n",
       "      <td>0.994853</td>\n",
       "      <td>1.051784</td>\n",
       "      <td>0.50025</td>\n",
       "    </tr>\n",
       "    <tr>\n",
       "      <th>min</th>\n",
       "      <td>-9.794328</td>\n",
       "      <td>-2.946732</td>\n",
       "      <td>-1.627253</td>\n",
       "      <td>0.00000</td>\n",
       "    </tr>\n",
       "    <tr>\n",
       "      <th>25%</th>\n",
       "      <td>-1.851837</td>\n",
       "      <td>-0.639598</td>\n",
       "      <td>-1.003386</td>\n",
       "      <td>0.00000</td>\n",
       "    </tr>\n",
       "    <tr>\n",
       "      <th>50%</th>\n",
       "      <td>0.252959</td>\n",
       "      <td>0.063701</td>\n",
       "      <td>-0.424821</td>\n",
       "      <td>0.50000</td>\n",
       "    </tr>\n",
       "    <tr>\n",
       "      <th>75%</th>\n",
       "      <td>2.177363</td>\n",
       "      <td>0.722395</td>\n",
       "      <td>1.036763</td>\n",
       "      <td>1.00000</td>\n",
       "    </tr>\n",
       "    <tr>\n",
       "      <th>max</th>\n",
       "      <td>9.256746</td>\n",
       "      <td>3.063029</td>\n",
       "      <td>2.059943</td>\n",
       "      <td>1.00000</td>\n",
       "    </tr>\n",
       "  </tbody>\n",
       "</table>\n",
       "</div>"
      ],
      "text/plain": [
       "                 0            1            2           3\n",
       "count  1000.000000  1000.000000  1000.000000  1000.00000\n",
       "mean      0.162699     0.052964     0.002570     0.50000\n",
       "std       3.012325     0.994853     1.051784     0.50025\n",
       "min      -9.794328    -2.946732    -1.627253     0.00000\n",
       "25%      -1.851837    -0.639598    -1.003386     0.00000\n",
       "50%       0.252959     0.063701    -0.424821     0.50000\n",
       "75%       2.177363     0.722395     1.036763     1.00000\n",
       "max       9.256746     3.063029     2.059943     1.00000"
      ]
     },
     "execution_count": 3,
     "metadata": {},
     "output_type": "execute_result"
    }
   ],
   "source": [
    "df.describe()"
   ]
  },
  {
   "cell_type": "code",
   "execution_count": 4,
   "id": "legendary-papua",
   "metadata": {},
   "outputs": [],
   "source": [
    "X = df[df.columns[:-1]].to_numpy()\n",
    "y = df[df.columns[-1]].to_numpy()\n",
    "\n",
    "y[y == 0] = -1"
   ]
  },
  {
   "cell_type": "code",
   "execution_count": 5,
   "id": "cognitive-radical",
   "metadata": {},
   "outputs": [
    {
     "data": {
      "text/plain": [
       "(1000, 3)"
      ]
     },
     "execution_count": 5,
     "metadata": {},
     "output_type": "execute_result"
    }
   ],
   "source": [
    "X.shape"
   ]
  },
  {
   "cell_type": "code",
   "execution_count": 6,
   "id": "offensive-north",
   "metadata": {},
   "outputs": [],
   "source": [
    "def hpad_ones(X):\n",
    "    padding = np.ones((X.shape[0], 1))\n",
    "    X = np.hstack((padding, X))\n",
    "    \n",
    "    return X"
   ]
  },
  {
   "cell_type": "code",
   "execution_count": 7,
   "id": "toxic-retirement",
   "metadata": {},
   "outputs": [],
   "source": [
    "# Padding with Ones to add bias term\n",
    "X = hpad_ones(X)"
   ]
  },
  {
   "cell_type": "code",
   "execution_count": 8,
   "id": "northern-victoria",
   "metadata": {},
   "outputs": [
    {
     "data": {
      "text/plain": [
       "((1000, 4), (1000,))"
      ]
     },
     "execution_count": 8,
     "metadata": {},
     "output_type": "execute_result"
    }
   ],
   "source": [
    "X.shape, y.shape"
   ]
  },
  {
   "cell_type": "code",
   "execution_count": 9,
   "id": "close-sequence",
   "metadata": {},
   "outputs": [
    {
     "data": {
      "text/plain": [
       "(4,)"
      ]
     },
     "execution_count": 9,
     "metadata": {},
     "output_type": "execute_result"
    }
   ],
   "source": [
    "X[0].shape"
   ]
  },
  {
   "cell_type": "code",
   "execution_count": 10,
   "id": "lonely-equation",
   "metadata": {},
   "outputs": [],
   "source": [
    "def classify(x, w):\n",
    "    return 1 if w.T @ x > 0 else -1"
   ]
  },
  {
   "cell_type": "code",
   "execution_count": 11,
   "id": "eleven-contest",
   "metadata": {},
   "outputs": [],
   "source": [
    "def get_weight(n):\n",
    "#     return np.random.randn(n, 1)\n",
    "    return np.ones((n, 1))"
   ]
  },
  {
   "cell_type": "code",
   "execution_count": 12,
   "id": "fewer-johns",
   "metadata": {},
   "outputs": [],
   "source": [
    "def sgd(w, X, y, learning_rate=0.1, epochs=10):\n",
    "    accuracy = []\n",
    "    for i in tqdm(range(epochs)):\n",
    "        for x, t in zip(X, y):\n",
    "            acc = test(w, X, y)\n",
    "            accuracy.append(acc)\n",
    "            \n",
    "            # if acc > .9:\n",
    "            #    return w, accuracy\n",
    "            \n",
    "            if (t * classify(x, w) < 0):\n",
    "                w += learning_rate * t * x.reshape(-1, 1)\n",
    "                \n",
    "    \n",
    "        # Calculate Accuracy\n",
    "        accuracy.append(test(w, X, y))\n",
    "        \n",
    "    plt.plot(accuracy)            \n",
    "    return w, accuracy"
   ]
  },
  {
   "cell_type": "code",
   "execution_count": 13,
   "id": "differential-location",
   "metadata": {},
   "outputs": [],
   "source": [
    "def test(w, X, y):\n",
    "    incorrect = 0\n",
    "    correct = 0\n",
    "    \n",
    "    for x, t in zip(X, y):\n",
    "        if (t * classify(x, w) < 0):\n",
    "            incorrect += 1\n",
    "        else:\n",
    "            correct += 1\n",
    "\n",
    "    # Calculate Accuracy\n",
    "    acc = correct / (correct + incorrect)\n",
    "    \n",
    "    return acc"
   ]
  },
  {
   "cell_type": "code",
   "execution_count": 14,
   "id": "cognitive-paraguay",
   "metadata": {},
   "outputs": [
    {
     "data": {
      "text/plain": [
       "0.617"
      ]
     },
     "execution_count": 14,
     "metadata": {},
     "output_type": "execute_result"
    }
   ],
   "source": [
    "w = get_weight(X.shape[1])\n",
    "test(w, X, y)"
   ]
  },
  {
   "cell_type": "code",
   "execution_count": 15,
   "id": "sudden-chase",
   "metadata": {},
   "outputs": [
    {
     "name": "stderr",
     "output_type": "stream",
     "text": [
      "100%|██████████| 1/1 [00:02<00:00,  2.95s/it]\n"
     ]
    },
    {
     "data": {
      "image/png": "[encoded data removed]",
      "text/plain": [
       "<Figure size 2000x1200 with 1 Axes>"
      ]
     },
     "metadata": {
      "needs_background": "light"
     },
     "output_type": "display_data"
    }
   ],
   "source": [
    "w, accuracy = sgd(w, X, y, epochs=1)"
   ]
  },
  {
   "cell_type": "code",
   "execution_count": 16,
   "id": "ancient-excuse",
   "metadata": {},
   "outputs": [
    {
     "data": {
      "text/plain": [
       "1.0"
      ]
     },
     "execution_count": 16,
     "metadata": {},
     "output_type": "execute_result"
    }
   ],
   "source": [
    "test(w, X, y)"
   ]
  }
 ],
 "metadata": {
  "kernelspec": {
   "display_name": "Python 3",
   "language": "python",
   "name": "python3"
  },
  "language_info": {
   "codemirror_mode": {
    "name": "ipython",
    "version": 3
   },
   "file_extension": ".py",
   "mimetype": "text/x-python",
   "name": "python",
   "nbconvert_exporter": "python",
   "pygments_lexer": "ipython3",
   "version": "3.9.1"
  }
 },
 "nbformat": 4,
 "nbformat_minor": 5
}
